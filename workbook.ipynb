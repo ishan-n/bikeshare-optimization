{
 "cells": [
  {
   "cell_type": "code",
   "execution_count": 1,
   "metadata": {},
   "outputs": [],
   "source": [
    "import pandas as pd\n",
    "import matplotlib.pyplot as plt\n",
    "import seaborn as sns\n",
    "import numpy as np"
   ]
  },
  {
   "cell_type": "markdown",
   "metadata": {},
   "source": [
    "# Data Summary"
   ]
  },
  {
   "cell_type": "code",
   "execution_count": 2,
   "metadata": {},
   "outputs": [],
   "source": [
    "df = pd.read_csv(\"/Users/ishan/Downloads/202310-citibike-tripdata.csv\",parse_dates=['started_at','ended_at'],low_memory=False)"
   ]
  },
  {
   "cell_type": "code",
   "execution_count": 3,
   "metadata": {},
   "outputs": [
    {
     "name": "stdout",
     "output_type": "stream",
     "text": [
      "<class 'pandas.core.frame.DataFrame'>\n",
      "RangeIndex: 3823673 entries, 0 to 3823672\n",
      "Data columns (total 13 columns):\n",
      " #   Column              Dtype         \n",
      "---  ------              -----         \n",
      " 0   ride_id             object        \n",
      " 1   rideable_type       object        \n",
      " 2   started_at          datetime64[ns]\n",
      " 3   ended_at            datetime64[ns]\n",
      " 4   start_station_name  object        \n",
      " 5   start_station_id    object        \n",
      " 6   end_station_name    object        \n",
      " 7   end_station_id      object        \n",
      " 8   start_lat           float64       \n",
      " 9   start_lng           float64       \n",
      " 10  end_lat             float64       \n",
      " 11  end_lng             float64       \n",
      " 12  member_casual       object        \n",
      "dtypes: datetime64[ns](2), float64(4), object(7)\n",
      "memory usage: 379.2+ MB\n",
      "None\n"
     ]
    },
    {
     "data": {
      "text/html": [
       "<div>\n",
       "<style scoped>\n",
       "    .dataframe tbody tr th:only-of-type {\n",
       "        vertical-align: middle;\n",
       "    }\n",
       "\n",
       "    .dataframe tbody tr th {\n",
       "        vertical-align: top;\n",
       "    }\n",
       "\n",
       "    .dataframe thead th {\n",
       "        text-align: right;\n",
       "    }\n",
       "</style>\n",
       "<table border=\"1\" class=\"dataframe\">\n",
       "  <thead>\n",
       "    <tr style=\"text-align: right;\">\n",
       "      <th></th>\n",
       "      <th>ride_id</th>\n",
       "      <th>rideable_type</th>\n",
       "      <th>started_at</th>\n",
       "      <th>ended_at</th>\n",
       "      <th>start_station_name</th>\n",
       "      <th>start_station_id</th>\n",
       "      <th>end_station_name</th>\n",
       "      <th>end_station_id</th>\n",
       "      <th>start_lat</th>\n",
       "      <th>start_lng</th>\n",
       "      <th>end_lat</th>\n",
       "      <th>end_lng</th>\n",
       "      <th>member_casual</th>\n",
       "    </tr>\n",
       "  </thead>\n",
       "  <tbody>\n",
       "    <tr>\n",
       "      <th>0</th>\n",
       "      <td>F01D2D54E9E60D6E</td>\n",
       "      <td>classic_bike</td>\n",
       "      <td>2023-10-03 02:48:38</td>\n",
       "      <td>2023-10-03 02:48:40</td>\n",
       "      <td>Columbus Pl &amp; Atlantic Ave</td>\n",
       "      <td>4146.02</td>\n",
       "      <td>Columbus Pl &amp; Atlantic Ave</td>\n",
       "      <td>4146.02</td>\n",
       "      <td>40.677223</td>\n",
       "      <td>-73.922792</td>\n",
       "      <td>40.677170</td>\n",
       "      <td>-73.922850</td>\n",
       "      <td>casual</td>\n",
       "    </tr>\n",
       "    <tr>\n",
       "      <th>1</th>\n",
       "      <td>CAE4EDBEA07001BD</td>\n",
       "      <td>classic_bike</td>\n",
       "      <td>2023-10-11 16:03:17</td>\n",
       "      <td>2023-10-11 16:45:26</td>\n",
       "      <td>Central Park West &amp; W 85 St</td>\n",
       "      <td>7354.01</td>\n",
       "      <td>Central Park West &amp; W 85 St</td>\n",
       "      <td>7354.01</td>\n",
       "      <td>40.784760</td>\n",
       "      <td>-73.969862</td>\n",
       "      <td>40.784760</td>\n",
       "      <td>-73.969862</td>\n",
       "      <td>casual</td>\n",
       "    </tr>\n",
       "    <tr>\n",
       "      <th>2</th>\n",
       "      <td>FDC34BAD31193E07</td>\n",
       "      <td>classic_bike</td>\n",
       "      <td>2023-10-11 19:57:13</td>\n",
       "      <td>2023-10-11 20:20:10</td>\n",
       "      <td>Hicks St &amp; Montague St</td>\n",
       "      <td>4645.09</td>\n",
       "      <td>5 St &amp; 6 Ave</td>\n",
       "      <td>3874.01</td>\n",
       "      <td>40.694974</td>\n",
       "      <td>-73.995936</td>\n",
       "      <td>40.670484</td>\n",
       "      <td>-73.982090</td>\n",
       "      <td>casual</td>\n",
       "    </tr>\n",
       "    <tr>\n",
       "      <th>3</th>\n",
       "      <td>DFEA5E65AE91CE2A</td>\n",
       "      <td>classic_bike</td>\n",
       "      <td>2023-10-10 20:18:22</td>\n",
       "      <td>2023-10-10 20:18:37</td>\n",
       "      <td>Atlantic Ave &amp; Furman St</td>\n",
       "      <td>4614.04</td>\n",
       "      <td>Atlantic Ave &amp; Furman St</td>\n",
       "      <td>4614.04</td>\n",
       "      <td>40.691669</td>\n",
       "      <td>-74.000139</td>\n",
       "      <td>40.691652</td>\n",
       "      <td>-73.999979</td>\n",
       "      <td>casual</td>\n",
       "    </tr>\n",
       "    <tr>\n",
       "      <th>4</th>\n",
       "      <td>48299D8BE9B55255</td>\n",
       "      <td>classic_bike</td>\n",
       "      <td>2023-10-17 16:26:58</td>\n",
       "      <td>2023-10-17 16:34:27</td>\n",
       "      <td>E 41 St &amp; Madison Ave (SE corner)</td>\n",
       "      <td>6432.10</td>\n",
       "      <td>E 58 St &amp; 3 Ave</td>\n",
       "      <td>6762.02</td>\n",
       "      <td>40.751845</td>\n",
       "      <td>-73.979585</td>\n",
       "      <td>40.760958</td>\n",
       "      <td>-73.967245</td>\n",
       "      <td>casual</td>\n",
       "    </tr>\n",
       "  </tbody>\n",
       "</table>\n",
       "</div>"
      ],
      "text/plain": [
       "            ride_id rideable_type          started_at            ended_at  \\\n",
       "0  F01D2D54E9E60D6E  classic_bike 2023-10-03 02:48:38 2023-10-03 02:48:40   \n",
       "1  CAE4EDBEA07001BD  classic_bike 2023-10-11 16:03:17 2023-10-11 16:45:26   \n",
       "2  FDC34BAD31193E07  classic_bike 2023-10-11 19:57:13 2023-10-11 20:20:10   \n",
       "3  DFEA5E65AE91CE2A  classic_bike 2023-10-10 20:18:22 2023-10-10 20:18:37   \n",
       "4  48299D8BE9B55255  classic_bike 2023-10-17 16:26:58 2023-10-17 16:34:27   \n",
       "\n",
       "                  start_station_name start_station_id  \\\n",
       "0         Columbus Pl & Atlantic Ave          4146.02   \n",
       "1        Central Park West & W 85 St          7354.01   \n",
       "2             Hicks St & Montague St          4645.09   \n",
       "3           Atlantic Ave & Furman St          4614.04   \n",
       "4  E 41 St & Madison Ave (SE corner)          6432.10   \n",
       "\n",
       "              end_station_name end_station_id  start_lat  start_lng  \\\n",
       "0   Columbus Pl & Atlantic Ave        4146.02  40.677223 -73.922792   \n",
       "1  Central Park West & W 85 St        7354.01  40.784760 -73.969862   \n",
       "2                 5 St & 6 Ave        3874.01  40.694974 -73.995936   \n",
       "3     Atlantic Ave & Furman St        4614.04  40.691669 -74.000139   \n",
       "4              E 58 St & 3 Ave        6762.02  40.751845 -73.979585   \n",
       "\n",
       "     end_lat    end_lng member_casual  \n",
       "0  40.677170 -73.922850        casual  \n",
       "1  40.784760 -73.969862        casual  \n",
       "2  40.670484 -73.982090        casual  \n",
       "3  40.691652 -73.999979        casual  \n",
       "4  40.760958 -73.967245        casual  "
      ]
     },
     "execution_count": 3,
     "metadata": {},
     "output_type": "execute_result"
    }
   ],
   "source": [
    "print(df.info())\n",
    "df.head(5)"
   ]
  },
  {
   "cell_type": "code",
   "execution_count": 4,
   "metadata": {},
   "outputs": [
    {
     "name": "stdout",
     "output_type": "stream",
     "text": [
      "Index(['start_lat', 'start_lng', 'end_lat', 'end_lng'], dtype='object')\n",
      "Numerical Columns Summary:\n",
      "\n",
      "+-------+-------------------------------+-------------------------------+--------------+---------------+--------------+---------------+\n",
      "|       | started_at                    | ended_at                      |    start_lat |     start_lng |      end_lat |       end_lng |\n",
      "+=======+===============================+===============================+==============+===============+==============+===============+\n",
      "| count | 3823673                       | 3823673                       |  3.82367e+06 |   3.82367e+06 |  3.82129e+06 |   3.82129e+06 |\n",
      "+-------+-------------------------------+-------------------------------+--------------+---------------+--------------+---------------+\n",
      "| mean  | 2023-10-16 06:55:04.447225600 | 2023-10-16 07:09:51.799132928 | 40.7387      | -73.9727      | 40.7385      | -73.9728      |\n",
      "+-------+-------------------------------+-------------------------------+--------------+---------------+--------------+---------------+\n",
      "| min   | 2023-10-01 00:00:00           | 2023-10-01 00:00:17           | 40.6149      | -74.03        |  0           | -74.0808      |\n",
      "+-------+-------------------------------+-------------------------------+--------------+---------------+--------------+---------------+\n",
      "| 25%   | 2023-10-08 11:38:40           | 2023-10-08 11:54:43           | 40.7145      | -73.993       | 40.7143      | -73.9932      |\n",
      "+-------+-------------------------------+-------------------------------+--------------+---------------+--------------+---------------+\n",
      "| 50%   | 2023-10-16 12:51:45           | 2023-10-16 13:06:41           | 40.7379      | -73.9803      | 40.7375      | -73.9804      |\n",
      "+-------+-------------------------------+-------------------------------+--------------+---------------+--------------+---------------+\n",
      "| 75%   | 2023-10-24 15:36:13           | 2023-10-24 15:50:24           | 40.7616      | -73.9562      | 40.7615      | -73.9562      |\n",
      "+-------+-------------------------------+-------------------------------+--------------+---------------+--------------+---------------+\n",
      "| max   | 2023-10-31 23:59:59           | 2023-11-01 23:39:38           | 40.8823      | -73.83        | 40.96        |   0           |\n",
      "+-------+-------------------------------+-------------------------------+--------------+---------------+--------------+---------------+\n",
      "| std   | nan                           | nan                           |  0.0398704   |   0.0283768   |  0.0449871   |   0.0473105   |\n",
      "+-------+-------------------------------+-------------------------------+--------------+---------------+--------------+---------------+\n",
      "Index(['ride_id', 'rideable_type', 'start_station_name', 'start_station_id', 'end_station_name', 'end_station_id', 'member_casual'], dtype='object')\n",
      "\n",
      "Categorical Columns Summary:\n",
      "\n",
      "+--------+------------------+-----------------+----------------------+--------------------+--------------------+------------------+-----------------+\n",
      "|        | ride_id          | rideable_type   | start_station_name   |   start_station_id | end_station_name   |   end_station_id | member_casual   |\n",
      "+========+==================+=================+======================+====================+====================+==================+=================+\n",
      "| count  | 3823673          | 3823673         | 3817887              |        3.81789e+06 | 3808655            |      3.80866e+06 | 3823673         |\n",
      "+--------+------------------+-----------------+----------------------+--------------------+--------------------+------------------+-----------------+\n",
      "| unique | 3823673          | 2               | 2116                 |     2063           | 2151               |   2098           | 2               |\n",
      "+--------+------------------+-----------------+----------------------+--------------------+--------------------+------------------+-----------------+\n",
      "| top    | F01D2D54E9E60D6E | classic_bike    | W 21 St & 6 Ave      |     6140.05        | W 21 St & 6 Ave    |   6140.05        | member          |\n",
      "+--------+------------------+-----------------+----------------------+--------------------+--------------------+------------------+-----------------+\n",
      "| freq   | 1                | 3621284         | 14676                |    14676           | 14682              |  14682           | 3100635         |\n",
      "+--------+------------------+-----------------+----------------------+--------------------+--------------------+------------------+-----------------+\n"
     ]
    }
   ],
   "source": [
    "from tabulate import tabulate\n",
    "pd.set_option('display.width', 10000)\n",
    "\n",
    "# Summary of numerical columns\n",
    "numerical_summary = df.describe()\n",
    "\n",
    "# Summary of categorical columns\n",
    "categorical_summary = df.describe(include='object')\n",
    "\n",
    "# Print formatted numerical columns summary\n",
    "numerical_cols = df.select_dtypes(include=['int64', 'float64']).columns\n",
    "print(numerical_cols)\n",
    "print(\"Numerical Columns Summary:\\n\")\n",
    "print(tabulate(numerical_summary, headers='keys', tablefmt='grid'))\n",
    "\n",
    "# Print formatted categorical columns summary\n",
    "categorical_cols = df.select_dtypes(include=['object', 'category']).columns\n",
    "print(categorical_cols)\n",
    "print(\"\\nCategorical Columns Summary:\\n\")\n",
    "print(tabulate(categorical_summary, headers='keys', tablefmt='grid'))"
   ]
  },
  {
   "cell_type": "code",
   "execution_count": 5,
   "metadata": {},
   "outputs": [
    {
     "data": {
      "text/plain": [
       "ride_id               3823673\n",
       "ended_at              1666063\n",
       "started_at            1661539\n",
       "start_lat              883455\n",
       "start_lng              728676\n",
       "end_station_name         2151\n",
       "end_lat                  2124\n",
       "end_lng                  2124\n",
       "start_station_name       2116\n",
       "end_station_id           2098\n",
       "start_station_id         2063\n",
       "rideable_type               2\n",
       "member_casual               2\n",
       "dtype: int64"
      ]
     },
     "execution_count": 5,
     "metadata": {},
     "output_type": "execute_result"
    }
   ],
   "source": [
    "df.nunique().sort_values(ascending=False)"
   ]
  },
  {
   "cell_type": "code",
   "execution_count": 6,
   "metadata": {},
   "outputs": [
    {
     "name": "stdout",
     "output_type": "stream",
     "text": [
      "end_station_name      0.392764\n",
      "end_station_id        0.392764\n",
      "start_station_name    0.151320\n",
      "start_station_id      0.151320\n",
      "end_lat               0.062427\n",
      "dtype: float64\n"
     ]
    }
   ],
   "source": [
    "missing_percentage = df.isnull().mean() * 100\n",
    "missing_percentage_sorted = missing_percentage.sort_values(ascending=False)\n",
    "print(missing_percentage_sorted.head(5))"
   ]
  },
  {
   "cell_type": "markdown",
   "metadata": {},
   "source": [
    "# Demand"
   ]
  },
  {
   "cell_type": "code",
   "execution_count": 19,
   "metadata": {},
   "outputs": [
    {
     "data": {
      "text/plain": [
       "Index(['W 21 St & 6 Ave', 'West St & Chambers St', 'E 41 St & Madison Ave (SE corner)', 'University Pl & E 14 St', 'Broadway & W 58 St', '11 Ave & W 41 St', 'Ave A & E 14 St', '1 Ave & E 68 St', 'Broadway & W 25 St', '7 Ave & Central Park South', '6 Ave & W 33 St', '8 Ave & W 31 St', 'W 31 St & 7 Ave', 'E 17 St & Broadway', 'E 33 St & 1 Ave'], dtype='object', name='start_station_name')"
      ]
     },
     "execution_count": 19,
     "metadata": {},
     "output_type": "execute_result"
    }
   ],
   "source": [
    "top_stations = df['start_station_name'].value_counts().head(15).index\n",
    "top_stations"
   ]
  },
  {
   "cell_type": "code",
   "execution_count": 20,
   "metadata": {},
   "outputs": [],
   "source": [
    "df_filtered = df[df['start_station_name'].isin(top_stations) & \n",
    "                 df['started_at'].dt.hour.isin([8,9])]"
   ]
  },
  {
   "cell_type": "code",
   "execution_count": 21,
   "metadata": {},
   "outputs": [],
   "source": [
    "avg_trips_per_day = df_filtered.groupby('start_station_name').size() / \\\n",
    "      df_filtered['started_at'].dt.date.nunique()"
   ]
  },
  {
   "cell_type": "code",
   "execution_count": 31,
   "metadata": {},
   "outputs": [
    {
     "name": "stdout",
     "output_type": "stream",
     "text": [
      "start_station_name\n",
      "E 41 St & Madison Ave (SE corner)    56.838710\n",
      "1 Ave & E 68 St                      50.354839\n",
      "W 21 St & 6 Ave                      50.225806\n",
      "E 33 St & 1 Ave                      46.677419\n",
      "Broadway & W 58 St                   46.419355\n",
      "8 Ave & W 31 St                      45.935484\n",
      "11 Ave & W 41 St                     45.193548\n",
      "West St & Chambers St                39.290323\n",
      "Ave A & E 14 St                      37.032258\n",
      "W 31 St & 7 Ave                      36.387097\n",
      "6 Ave & W 33 St                      34.806452\n",
      "University Pl & E 14 St              34.225806\n",
      "E 17 St & Broadway                   33.193548\n",
      "7 Ave & Central Park South           32.548387\n",
      "Broadway & W 25 St                   29.258065\n",
      "dtype: float64\n"
     ]
    }
   ],
   "source": [
    "print(avg_trips_per_day.sort_values(ascending=False))\n"
   ]
  },
  {
   "cell_type": "code",
   "execution_count": 32,
   "metadata": {},
   "outputs": [
    {
     "name": "stderr",
     "output_type": "stream",
     "text": [
      "/var/folders/gj/nnzd_bq105s65r5x_8lb4m7c0000gn/T/ipykernel_80413/3513231363.py:1: SettingWithCopyWarning: \n",
      "A value is trying to be set on a copy of a slice from a DataFrame.\n",
      "Try using .loc[row_indexer,col_indexer] = value instead\n",
      "\n",
      "See the caveats in the documentation: https://pandas.pydata.org/pandas-docs/stable/user_guide/indexing.html#returning-a-view-versus-a-copy\n",
      "  df_filtered['trip_duration'] = (df_filtered['ended_at'] - df_filtered['started_at']).dt.total_seconds() / 60  # duration in minutes\n"
     ]
    }
   ],
   "source": [
    "df_filtered['trip_duration'] = (df_filtered['ended_at'] - df_filtered['started_at']).dt.total_seconds() / 60  # duration in minutes\n",
    "avg_trip_time = df_filtered.groupby('start_station_name')['trip_duration'].mean()\n"
   ]
  },
  {
   "cell_type": "code",
   "execution_count": 34,
   "metadata": {},
   "outputs": [
    {
     "data": {
      "text/plain": [
       "start_station_name\n",
       "7 Ave & Central Park South           18.317988\n",
       "11 Ave & W 41 St                     15.555068\n",
       "West St & Chambers St                14.435276\n",
       "Broadway & W 58 St                   14.312868\n",
       "8 Ave & W 31 St                      14.308684\n",
       "1 Ave & E 68 St                      13.171695\n",
       "W 21 St & 6 Ave                      13.006605\n",
       "E 33 St & 1 Ave                      12.726422\n",
       "University Pl & E 14 St              12.409881\n",
       "W 31 St & 7 Ave                      12.332033\n",
       "E 41 St & Madison Ave (SE corner)    12.306139\n",
       "Broadway & W 25 St                   11.548585\n",
       "Ave A & E 14 St                      11.288545\n",
       "E 17 St & Broadway                   11.204033\n",
       "6 Ave & W 33 St                       9.587010\n",
       "Name: trip_duration, dtype: float64"
      ]
     },
     "execution_count": 34,
     "metadata": {},
     "output_type": "execute_result"
    }
   ],
   "source": [
    "avg_trip_time.sort_values(ascending=False)"
   ]
  },
  {
   "cell_type": "code",
   "execution_count": 35,
   "metadata": {},
   "outputs": [
    {
     "name": "stdout",
     "output_type": "stream",
     "text": [
      "                                   Average Trips Per Day  Average Trip Duration (Minutes)\n",
      "start_station_name                                                                       \n",
      "E 41 St & Madison Ave (SE corner)              56.838710                        12.306139\n",
      "1 Ave & E 68 St                                50.354839                        13.171695\n",
      "W 21 St & 6 Ave                                50.225806                        13.006605\n",
      "E 33 St & 1 Ave                                46.677419                        12.726422\n",
      "Broadway & W 58 St                             46.419355                        14.312868\n",
      "8 Ave & W 31 St                                45.935484                        14.308684\n",
      "11 Ave & W 41 St                               45.193548                        15.555068\n",
      "West St & Chambers St                          39.290323                        14.435276\n",
      "Ave A & E 14 St                                37.032258                        11.288545\n",
      "W 31 St & 7 Ave                                36.387097                        12.332033\n",
      "6 Ave & W 33 St                                34.806452                         9.587010\n",
      "University Pl & E 14 St                        34.225806                        12.409881\n",
      "E 17 St & Broadway                             33.193548                        11.204033\n",
      "7 Ave & Central Park South                     32.548387                        18.317988\n",
      "Broadway & W 25 St                             29.258065                        11.548585\n"
     ]
    }
   ],
   "source": [
    "# Combine the two Series into a DataFrame\n",
    "combined_df = pd.concat([avg_trips_per_day, avg_trip_time], axis=1)\n",
    "\n",
    "# Rename the columns for clarity\n",
    "combined_df.columns = ['Average Trips Per Day', 'Average Trip Duration (Minutes)']\n",
    "\n",
    "# Optionally, you can sort by one of the columns\n",
    "combined_df.sort_values(by='Average Trips Per Day', ascending=False, inplace=True)\n",
    "\n",
    "# Display the combined table\n",
    "print(combined_df)"
   ]
  },
  {
   "cell_type": "code",
   "execution_count": null,
   "metadata": {},
   "outputs": [],
   "source": []
  }
 ],
 "metadata": {
  "kernelspec": {
   "display_name": ".venv",
   "language": "python",
   "name": "python3"
  },
  "language_info": {
   "codemirror_mode": {
    "name": "ipython",
    "version": 3
   },
   "file_extension": ".py",
   "mimetype": "text/x-python",
   "name": "python",
   "nbconvert_exporter": "python",
   "pygments_lexer": "ipython3",
   "version": "3.11.2"
  },
  "orig_nbformat": 4
 },
 "nbformat": 4,
 "nbformat_minor": 2
}
